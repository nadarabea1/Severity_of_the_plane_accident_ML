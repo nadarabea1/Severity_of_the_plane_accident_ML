{
 "cells": [
  {
   "cell_type": "code",
   "execution_count": 1,
   "id": "dccd5d8b",
   "metadata": {},
   "outputs": [],
   "source": [
    "import numpy as np\n",
    "import pandas as pd\n",
    "import matplotlib.pyplot as plt\n",
    "import seaborn as sns"
   ]
  },
  {
   "cell_type": "code",
   "execution_count": 2,
   "id": "6151b83f",
   "metadata": {},
   "outputs": [
    {
     "data": {
      "text/html": [
       "<div>\n",
       "<style scoped>\n",
       "    .dataframe tbody tr th:only-of-type {\n",
       "        vertical-align: middle;\n",
       "    }\n",
       "\n",
       "    .dataframe tbody tr th {\n",
       "        vertical-align: top;\n",
       "    }\n",
       "\n",
       "    .dataframe thead th {\n",
       "        text-align: right;\n",
       "    }\n",
       "</style>\n",
       "<table border=\"1\" class=\"dataframe\">\n",
       "  <thead>\n",
       "    <tr style=\"text-align: right;\">\n",
       "      <th></th>\n",
       "      <th>Unnamed: 0</th>\n",
       "      <th>Safety_Score</th>\n",
       "      <th>Days_Since_Inspection</th>\n",
       "      <th>Total_Safety_Complaints</th>\n",
       "      <th>Control_Metric</th>\n",
       "      <th>Turbulence_In_gforces</th>\n",
       "      <th>Cabin_Temperature</th>\n",
       "      <th>Accident_Type_Code</th>\n",
       "      <th>Max_Elevation</th>\n",
       "      <th>Violations</th>\n",
       "      <th>Adverse_Weather_Metric</th>\n",
       "      <th>Accident_ID</th>\n",
       "      <th>Severity</th>\n",
       "    </tr>\n",
       "  </thead>\n",
       "  <tbody>\n",
       "    <tr>\n",
       "      <th>0</th>\n",
       "      <td>4580</td>\n",
       "      <td>34.063927</td>\n",
       "      <td>15</td>\n",
       "      <td>43</td>\n",
       "      <td>61.394713</td>\n",
       "      <td>0.292673</td>\n",
       "      <td>78.70</td>\n",
       "      <td>7</td>\n",
       "      <td>37917.179706</td>\n",
       "      <td>2</td>\n",
       "      <td>0.003512</td>\n",
       "      <td>6610</td>\n",
       "      <td>Significant_Damage_And_Serious_Injuries</td>\n",
       "    </tr>\n",
       "    <tr>\n",
       "      <th>1</th>\n",
       "      <td>1406</td>\n",
       "      <td>61.278539</td>\n",
       "      <td>10</td>\n",
       "      <td>3</td>\n",
       "      <td>79.307201</td>\n",
       "      <td>0.310343</td>\n",
       "      <td>84.53</td>\n",
       "      <td>2</td>\n",
       "      <td>60869.748698</td>\n",
       "      <td>2</td>\n",
       "      <td>0.777802</td>\n",
       "      <td>7800</td>\n",
       "      <td>Minor_Damage_And_Injuries</td>\n",
       "    </tr>\n",
       "    <tr>\n",
       "      <th>2</th>\n",
       "      <td>1964</td>\n",
       "      <td>58.721461</td>\n",
       "      <td>14</td>\n",
       "      <td>7</td>\n",
       "      <td>75.205105</td>\n",
       "      <td>0.249398</td>\n",
       "      <td>88.93</td>\n",
       "      <td>7</td>\n",
       "      <td>23410.342289</td>\n",
       "      <td>4</td>\n",
       "      <td>0.002406</td>\n",
       "      <td>8293</td>\n",
       "      <td>Significant_Damage_And_Fatalities</td>\n",
       "    </tr>\n",
       "    <tr>\n",
       "      <th>3</th>\n",
       "      <td>7497</td>\n",
       "      <td>50.273973</td>\n",
       "      <td>17</td>\n",
       "      <td>7</td>\n",
       "      <td>47.721057</td>\n",
       "      <td>0.504718</td>\n",
       "      <td>81.35</td>\n",
       "      <td>7</td>\n",
       "      <td>32473.864212</td>\n",
       "      <td>3</td>\n",
       "      <td>0.003312</td>\n",
       "      <td>510</td>\n",
       "      <td>Significant_Damage_And_Serious_Injuries</td>\n",
       "    </tr>\n",
       "    <tr>\n",
       "      <th>4</th>\n",
       "      <td>43</td>\n",
       "      <td>46.255708</td>\n",
       "      <td>7</td>\n",
       "      <td>2</td>\n",
       "      <td>67.502279</td>\n",
       "      <td>0.269233</td>\n",
       "      <td>75.35</td>\n",
       "      <td>4</td>\n",
       "      <td>38277.020160</td>\n",
       "      <td>0</td>\n",
       "      <td>0.070480</td>\n",
       "      <td>4445</td>\n",
       "      <td>Highly_Fatal_And_Damaging</td>\n",
       "    </tr>\n",
       "  </tbody>\n",
       "</table>\n",
       "</div>"
      ],
      "text/plain": [
       "   Unnamed: 0  Safety_Score  Days_Since_Inspection  Total_Safety_Complaints  \\\n",
       "0        4580     34.063927                     15                       43   \n",
       "1        1406     61.278539                     10                        3   \n",
       "2        1964     58.721461                     14                        7   \n",
       "3        7497     50.273973                     17                        7   \n",
       "4          43     46.255708                      7                        2   \n",
       "\n",
       "   Control_Metric  Turbulence_In_gforces  Cabin_Temperature  \\\n",
       "0       61.394713               0.292673              78.70   \n",
       "1       79.307201               0.310343              84.53   \n",
       "2       75.205105               0.249398              88.93   \n",
       "3       47.721057               0.504718              81.35   \n",
       "4       67.502279               0.269233              75.35   \n",
       "\n",
       "   Accident_Type_Code  Max_Elevation  Violations  Adverse_Weather_Metric  \\\n",
       "0                   7   37917.179706           2                0.003512   \n",
       "1                   2   60869.748698           2                0.777802   \n",
       "2                   7   23410.342289           4                0.002406   \n",
       "3                   7   32473.864212           3                0.003312   \n",
       "4                   4   38277.020160           0                0.070480   \n",
       "\n",
       "   Accident_ID                                 Severity  \n",
       "0         6610  Significant_Damage_And_Serious_Injuries  \n",
       "1         7800                Minor_Damage_And_Injuries  \n",
       "2         8293        Significant_Damage_And_Fatalities  \n",
       "3          510  Significant_Damage_And_Serious_Injuries  \n",
       "4         4445                Highly_Fatal_And_Damaging  "
      ]
     },
     "execution_count": 2,
     "metadata": {},
     "output_type": "execute_result"
    }
   ],
   "source": [
    "train=pd.read_csv('Dataset.csv')\n",
    "train.head()"
   ]
  },
  {
   "cell_type": "code",
   "execution_count": 3,
   "id": "587db0eb",
   "metadata": {},
   "outputs": [
    {
     "data": {
      "text/html": [
       "<div>\n",
       "<style scoped>\n",
       "    .dataframe tbody tr th:only-of-type {\n",
       "        vertical-align: middle;\n",
       "    }\n",
       "\n",
       "    .dataframe tbody tr th {\n",
       "        vertical-align: top;\n",
       "    }\n",
       "\n",
       "    .dataframe thead th {\n",
       "        text-align: right;\n",
       "    }\n",
       "</style>\n",
       "<table border=\"1\" class=\"dataframe\">\n",
       "  <thead>\n",
       "    <tr style=\"text-align: right;\">\n",
       "      <th></th>\n",
       "      <th>Unnamed: 0</th>\n",
       "      <th>Safety_Score</th>\n",
       "      <th>Days_Since_Inspection</th>\n",
       "      <th>Total_Safety_Complaints</th>\n",
       "      <th>Control_Metric</th>\n",
       "      <th>Turbulence_In_gforces</th>\n",
       "      <th>Cabin_Temperature</th>\n",
       "      <th>Accident_Type_Code</th>\n",
       "      <th>Max_Elevation</th>\n",
       "      <th>Violations</th>\n",
       "      <th>Adverse_Weather_Metric</th>\n",
       "      <th>Accident_ID</th>\n",
       "    </tr>\n",
       "  </thead>\n",
       "  <tbody>\n",
       "    <tr>\n",
       "      <th>0</th>\n",
       "      <td>2390</td>\n",
       "      <td>80.593607</td>\n",
       "      <td>8</td>\n",
       "      <td>11</td>\n",
       "      <td>62.534184</td>\n",
       "      <td>0.409514</td>\n",
       "      <td>82.45</td>\n",
       "      <td>2</td>\n",
       "      <td>29304.824298</td>\n",
       "      <td>2</td>\n",
       "      <td>0.395623</td>\n",
       "      <td>960</td>\n",
       "    </tr>\n",
       "    <tr>\n",
       "      <th>1</th>\n",
       "      <td>6803</td>\n",
       "      <td>41.917808</td>\n",
       "      <td>12</td>\n",
       "      <td>1</td>\n",
       "      <td>56.198724</td>\n",
       "      <td>0.413481</td>\n",
       "      <td>79.64</td>\n",
       "      <td>7</td>\n",
       "      <td>42176.922286</td>\n",
       "      <td>2</td>\n",
       "      <td>0.003973</td>\n",
       "      <td>9315</td>\n",
       "    </tr>\n",
       "    <tr>\n",
       "      <th>2</th>\n",
       "      <td>3226</td>\n",
       "      <td>43.333333</td>\n",
       "      <td>15</td>\n",
       "      <td>4</td>\n",
       "      <td>49.817685</td>\n",
       "      <td>0.408432</td>\n",
       "      <td>82.66</td>\n",
       "      <td>2</td>\n",
       "      <td>36091.552772</td>\n",
       "      <td>3</td>\n",
       "      <td>0.490557</td>\n",
       "      <td>7411</td>\n",
       "    </tr>\n",
       "    <tr>\n",
       "      <th>3</th>\n",
       "      <td>8630</td>\n",
       "      <td>26.073059</td>\n",
       "      <td>21</td>\n",
       "      <td>0</td>\n",
       "      <td>65.496809</td>\n",
       "      <td>0.363354</td>\n",
       "      <td>82.92</td>\n",
       "      <td>4</td>\n",
       "      <td>26977.613452</td>\n",
       "      <td>1</td>\n",
       "      <td>0.049470</td>\n",
       "      <td>12309</td>\n",
       "    </tr>\n",
       "    <tr>\n",
       "      <th>4</th>\n",
       "      <td>4898</td>\n",
       "      <td>32.876712</td>\n",
       "      <td>11</td>\n",
       "      <td>9</td>\n",
       "      <td>62.670921</td>\n",
       "      <td>0.443773</td>\n",
       "      <td>85.40</td>\n",
       "      <td>3</td>\n",
       "      <td>46847.458386</td>\n",
       "      <td>0</td>\n",
       "      <td>0.231088</td>\n",
       "      <td>7969</td>\n",
       "    </tr>\n",
       "  </tbody>\n",
       "</table>\n",
       "</div>"
      ],
      "text/plain": [
       "   Unnamed: 0  Safety_Score  Days_Since_Inspection  Total_Safety_Complaints  \\\n",
       "0        2390     80.593607                      8                       11   \n",
       "1        6803     41.917808                     12                        1   \n",
       "2        3226     43.333333                     15                        4   \n",
       "3        8630     26.073059                     21                        0   \n",
       "4        4898     32.876712                     11                        9   \n",
       "\n",
       "   Control_Metric  Turbulence_In_gforces  Cabin_Temperature  \\\n",
       "0       62.534184               0.409514              82.45   \n",
       "1       56.198724               0.413481              79.64   \n",
       "2       49.817685               0.408432              82.66   \n",
       "3       65.496809               0.363354              82.92   \n",
       "4       62.670921               0.443773              85.40   \n",
       "\n",
       "   Accident_Type_Code  Max_Elevation  Violations  Adverse_Weather_Metric  \\\n",
       "0                   2   29304.824298           2                0.395623   \n",
       "1                   7   42176.922286           2                0.003973   \n",
       "2                   2   36091.552772           3                0.490557   \n",
       "3                   4   26977.613452           1                0.049470   \n",
       "4                   3   46847.458386           0                0.231088   \n",
       "\n",
       "   Accident_ID  \n",
       "0          960  \n",
       "1         9315  \n",
       "2         7411  \n",
       "3        12309  \n",
       "4         7969  "
      ]
     },
     "execution_count": 3,
     "metadata": {},
     "output_type": "execute_result"
    }
   ],
   "source": [
    "test=pd.read_csv('x_test.csv')\n",
    "test.head()\n"
   ]
  },
  {
   "cell_type": "code",
   "execution_count": 4,
   "id": "c475c72f",
   "metadata": {},
   "outputs": [
    {
     "data": {
      "text/plain": [
       "Unnamed: 0                 0\n",
       "Safety_Score               0\n",
       "Days_Since_Inspection      0\n",
       "Total_Safety_Complaints    0\n",
       "Control_Metric             0\n",
       "Turbulence_In_gforces      0\n",
       "Cabin_Temperature          0\n",
       "Accident_Type_Code         0\n",
       "Max_Elevation              0\n",
       "Violations                 0\n",
       "Adverse_Weather_Metric     0\n",
       "Accident_ID                0\n",
       "Severity                   0\n",
       "dtype: int64"
      ]
     },
     "execution_count": 4,
     "metadata": {},
     "output_type": "execute_result"
    }
   ],
   "source": [
    "train.isnull().sum()"
   ]
  },
  {
   "cell_type": "code",
   "execution_count": 5,
   "id": "7e769319",
   "metadata": {},
   "outputs": [
    {
     "data": {
      "text/plain": [
       "0"
      ]
     },
     "execution_count": 5,
     "metadata": {},
     "output_type": "execute_result"
    }
   ],
   "source": [
    "train.duplicated().sum()"
   ]
  },
  {
   "cell_type": "code",
   "execution_count": 6,
   "id": "d5fd2dc8",
   "metadata": {},
   "outputs": [
    {
     "data": {
      "text/plain": [
       "Unnamed: 0                 0\n",
       "Safety_Score               0\n",
       "Days_Since_Inspection      0\n",
       "Total_Safety_Complaints    0\n",
       "Control_Metric             0\n",
       "Turbulence_In_gforces      0\n",
       "Cabin_Temperature          0\n",
       "Accident_Type_Code         0\n",
       "Max_Elevation              0\n",
       "Violations                 0\n",
       "Adverse_Weather_Metric     0\n",
       "Accident_ID                0\n",
       "dtype: int64"
      ]
     },
     "execution_count": 6,
     "metadata": {},
     "output_type": "execute_result"
    }
   ],
   "source": [
    "test.isnull().sum()"
   ]
  },
  {
   "cell_type": "code",
   "execution_count": 7,
   "id": "e10c8f0f",
   "metadata": {},
   "outputs": [
    {
     "data": {
      "text/plain": [
       "0"
      ]
     },
     "execution_count": 7,
     "metadata": {},
     "output_type": "execute_result"
    }
   ],
   "source": [
    "test.duplicated().sum()"
   ]
  },
  {
   "cell_type": "code",
   "execution_count": 8,
   "id": "2e908d01",
   "metadata": {},
   "outputs": [
    {
     "data": {
      "text/plain": [
       "<AxesSubplot:>"
      ]
     },
     "execution_count": 8,
     "metadata": {},
     "output_type": "execute_result"
    },
    {
     "data": {
      "image/png": "[encoded data removed]",
      "text/plain": [
       "<Figure size 1080x720 with 2 Axes>"
      ]
     },
     "metadata": {
      "needs_background": "light"
     },
     "output_type": "display_data"
    }
   ],
   "source": [
    "corr = train.corr()\n",
    "plt.figure(figsize=(15,10))\n",
    "sns.heatmap(corr,annot=True,fmt='.2f',linewidth=1)"
   ]
  },
  {
   "cell_type": "markdown",
   "id": "0e15f106",
   "metadata": {},
   "source": [
    "# THE MAIN AIM : WHAT IS THE REASONS THE ACCIDENT?"
   ]
  },
  {
   "cell_type": "code",
   "execution_count": 9,
   "id": "320a7535",
   "metadata": {},
   "outputs": [
    {
     "data": {
      "text/plain": [
       "0        6610\n",
       "4        4445\n",
       "6        5313\n",
       "7        5582\n",
       "8        4416\n",
       "        ...  \n",
       "8493    11013\n",
       "8494     9662\n",
       "8497     1891\n",
       "8498     5266\n",
       "8499     8330\n",
       "Name: Accident_ID, Length: 4855, dtype: int64"
      ]
     },
     "execution_count": 9,
     "metadata": {},
     "output_type": "execute_result"
    }
   ],
   "source": [
    "# WHICH ACCIDENT HAS CABIN TEMPRETURE MORE THAN MEAN?\n",
    "mean= train['Cabin_Temperature'].mean()\n",
    "train[train['Cabin_Temperature']<=mean]['Accident_ID']"
   ]
  },
  {
   "cell_type": "code",
   "execution_count": 10,
   "id": "962813a6",
   "metadata": {},
   "outputs": [
    {
     "data": {
      "text/plain": [
       "0        6610\n",
       "2        8293\n",
       "3         510\n",
       "4        4445\n",
       "6        5313\n",
       "        ...  \n",
       "8493    11013\n",
       "8495     9446\n",
       "8496     2412\n",
       "8497     1891\n",
       "8499     8330\n",
       "Name: Accident_ID, Length: 6082, dtype: int64"
      ]
     },
     "execution_count": 10,
     "metadata": {},
     "output_type": "execute_result"
    }
   ],
   "source": [
    "# WHICH ACCIDENT HAS Adverse_Weather_Metric MORE THAN MEAN?\n",
    "mean= train['Adverse_Weather_Metric'].mean()\n",
    "train[train['Adverse_Weather_Metric']<=mean]['Accident_ID']"
   ]
  },
  {
   "cell_type": "code",
   "execution_count": 11,
   "id": "b94fc0d7",
   "metadata": {},
   "outputs": [
    {
     "data": {
      "text/plain": [
       "0       6610\n",
       "7       5582\n",
       "8       4416\n",
       "10      6591\n",
       "11      1130\n",
       "        ... \n",
       "8492    9129\n",
       "8494    9662\n",
       "8496    2412\n",
       "8498    5266\n",
       "8499    8330\n",
       "Name: Accident_ID, Length: 4396, dtype: int64"
      ]
     },
     "execution_count": 11,
     "metadata": {},
     "output_type": "execute_result"
    }
   ],
   "source": [
    "# WHICH ACCIDENT HAS Safety_Score MORE THAN MEAN?\n",
    "mean= train['Safety_Score'].mean()\n",
    "train[train['Safety_Score']<=mean]['Accident_ID']"
   ]
  },
  {
   "cell_type": "code",
   "execution_count": 12,
   "id": "f08c4d18",
   "metadata": {},
   "outputs": [
    {
     "data": {
      "text/html": [
       "<div>\n",
       "<style scoped>\n",
       "    .dataframe tbody tr th:only-of-type {\n",
       "        vertical-align: middle;\n",
       "    }\n",
       "\n",
       "    .dataframe tbody tr th {\n",
       "        vertical-align: top;\n",
       "    }\n",
       "\n",
       "    .dataframe thead th {\n",
       "        text-align: right;\n",
       "    }\n",
       "</style>\n",
       "<table border=\"1\" class=\"dataframe\">\n",
       "  <thead>\n",
       "    <tr style=\"text-align: right;\">\n",
       "      <th></th>\n",
       "      <th>Days_Since_Inspection</th>\n",
       "    </tr>\n",
       "    <tr>\n",
       "      <th>Accident_ID</th>\n",
       "      <th></th>\n",
       "    </tr>\n",
       "  </thead>\n",
       "  <tbody>\n",
       "    <tr>\n",
       "      <th>12254</th>\n",
       "      <td>23</td>\n",
       "    </tr>\n",
       "    <tr>\n",
       "      <th>205</th>\n",
       "      <td>23</td>\n",
       "    </tr>\n",
       "    <tr>\n",
       "      <th>4017</th>\n",
       "      <td>23</td>\n",
       "    </tr>\n",
       "    <tr>\n",
       "      <th>9000</th>\n",
       "      <td>23</td>\n",
       "    </tr>\n",
       "    <tr>\n",
       "      <th>12458</th>\n",
       "      <td>23</td>\n",
       "    </tr>\n",
       "    <tr>\n",
       "      <th>...</th>\n",
       "      <td>...</td>\n",
       "    </tr>\n",
       "    <tr>\n",
       "      <th>9705</th>\n",
       "      <td>1</td>\n",
       "    </tr>\n",
       "    <tr>\n",
       "      <th>5430</th>\n",
       "      <td>1</td>\n",
       "    </tr>\n",
       "    <tr>\n",
       "      <th>361</th>\n",
       "      <td>1</td>\n",
       "    </tr>\n",
       "    <tr>\n",
       "      <th>11009</th>\n",
       "      <td>1</td>\n",
       "    </tr>\n",
       "    <tr>\n",
       "      <th>9494</th>\n",
       "      <td>1</td>\n",
       "    </tr>\n",
       "  </tbody>\n",
       "</table>\n",
       "<p>8500 rows × 1 columns</p>\n",
       "</div>"
      ],
      "text/plain": [
       "             Days_Since_Inspection\n",
       "Accident_ID                       \n",
       "12254                           23\n",
       "205                             23\n",
       "4017                            23\n",
       "9000                            23\n",
       "12458                           23\n",
       "...                            ...\n",
       "9705                             1\n",
       "5430                             1\n",
       "361                              1\n",
       "11009                            1\n",
       "9494                             1\n",
       "\n",
       "[8500 rows x 1 columns]"
      ]
     },
     "execution_count": 12,
     "metadata": {},
     "output_type": "execute_result"
    }
   ],
   "source": [
    "train.groupby('Accident_ID').agg({'Days_Since_Inspection':'sum'}).sort_values('Days_Since_Inspection', ascending = False)"
   ]
  },
  {
   "cell_type": "code",
   "execution_count": 13,
   "id": "b7603618",
   "metadata": {},
   "outputs": [
    {
     "data": {
      "text/html": [
       "<div>\n",
       "<style scoped>\n",
       "    .dataframe tbody tr th:only-of-type {\n",
       "        vertical-align: middle;\n",
       "    }\n",
       "\n",
       "    .dataframe tbody tr th {\n",
       "        vertical-align: top;\n",
       "    }\n",
       "\n",
       "    .dataframe thead th {\n",
       "        text-align: right;\n",
       "    }\n",
       "</style>\n",
       "<table border=\"1\" class=\"dataframe\">\n",
       "  <thead>\n",
       "    <tr style=\"text-align: right;\">\n",
       "      <th></th>\n",
       "      <th>Total_Safety_Complaints</th>\n",
       "    </tr>\n",
       "    <tr>\n",
       "      <th>Accident_ID</th>\n",
       "      <th></th>\n",
       "    </tr>\n",
       "  </thead>\n",
       "  <tbody>\n",
       "    <tr>\n",
       "      <th>5789</th>\n",
       "      <td>54</td>\n",
       "    </tr>\n",
       "    <tr>\n",
       "      <th>551</th>\n",
       "      <td>54</td>\n",
       "    </tr>\n",
       "    <tr>\n",
       "      <th>12194</th>\n",
       "      <td>54</td>\n",
       "    </tr>\n",
       "    <tr>\n",
       "      <th>8508</th>\n",
       "      <td>54</td>\n",
       "    </tr>\n",
       "    <tr>\n",
       "      <th>10403</th>\n",
       "      <td>54</td>\n",
       "    </tr>\n",
       "    <tr>\n",
       "      <th>...</th>\n",
       "      <td>...</td>\n",
       "    </tr>\n",
       "    <tr>\n",
       "      <th>1820</th>\n",
       "      <td>0</td>\n",
       "    </tr>\n",
       "    <tr>\n",
       "      <th>5992</th>\n",
       "      <td>0</td>\n",
       "    </tr>\n",
       "    <tr>\n",
       "      <th>3293</th>\n",
       "      <td>0</td>\n",
       "    </tr>\n",
       "    <tr>\n",
       "      <th>6689</th>\n",
       "      <td>0</td>\n",
       "    </tr>\n",
       "    <tr>\n",
       "      <th>6133</th>\n",
       "      <td>0</td>\n",
       "    </tr>\n",
       "  </tbody>\n",
       "</table>\n",
       "<p>8500 rows × 1 columns</p>\n",
       "</div>"
      ],
      "text/plain": [
       "             Total_Safety_Complaints\n",
       "Accident_ID                         \n",
       "5789                              54\n",
       "551                               54\n",
       "12194                             54\n",
       "8508                              54\n",
       "10403                             54\n",
       "...                              ...\n",
       "1820                               0\n",
       "5992                               0\n",
       "3293                               0\n",
       "6689                               0\n",
       "6133                               0\n",
       "\n",
       "[8500 rows x 1 columns]"
      ]
     },
     "execution_count": 13,
     "metadata": {},
     "output_type": "execute_result"
    }
   ],
   "source": [
    "#HOW MANY COMPLAINTS IN THE ACCIDENT? \n",
    "train.groupby('Accident_ID').agg({'Total_Safety_Complaints':'sum'}).sort_values('Total_Safety_Complaints', ascending = False)"
   ]
  },
  {
   "cell_type": "code",
   "execution_count": 14,
   "id": "8da27c63",
   "metadata": {},
   "outputs": [
    {
     "data": {
      "text/html": [
       "<div>\n",
       "<style scoped>\n",
       "    .dataframe tbody tr th:only-of-type {\n",
       "        vertical-align: middle;\n",
       "    }\n",
       "\n",
       "    .dataframe tbody tr th {\n",
       "        vertical-align: top;\n",
       "    }\n",
       "\n",
       "    .dataframe thead th {\n",
       "        text-align: right;\n",
       "    }\n",
       "</style>\n",
       "<table border=\"1\" class=\"dataframe\">\n",
       "  <thead>\n",
       "    <tr style=\"text-align: right;\">\n",
       "      <th></th>\n",
       "      <th>Violations</th>\n",
       "    </tr>\n",
       "    <tr>\n",
       "      <th>Accident_ID</th>\n",
       "      <th></th>\n",
       "    </tr>\n",
       "  </thead>\n",
       "  <tbody>\n",
       "    <tr>\n",
       "      <th>10855</th>\n",
       "      <td>5</td>\n",
       "    </tr>\n",
       "    <tr>\n",
       "      <th>2931</th>\n",
       "      <td>5</td>\n",
       "    </tr>\n",
       "    <tr>\n",
       "      <th>1914</th>\n",
       "      <td>5</td>\n",
       "    </tr>\n",
       "    <tr>\n",
       "      <th>12227</th>\n",
       "      <td>5</td>\n",
       "    </tr>\n",
       "    <tr>\n",
       "      <th>12232</th>\n",
       "      <td>5</td>\n",
       "    </tr>\n",
       "    <tr>\n",
       "      <th>...</th>\n",
       "      <td>...</td>\n",
       "    </tr>\n",
       "    <tr>\n",
       "      <th>4509</th>\n",
       "      <td>0</td>\n",
       "    </tr>\n",
       "    <tr>\n",
       "      <th>1363</th>\n",
       "      <td>0</td>\n",
       "    </tr>\n",
       "    <tr>\n",
       "      <th>8095</th>\n",
       "      <td>0</td>\n",
       "    </tr>\n",
       "    <tr>\n",
       "      <th>4517</th>\n",
       "      <td>0</td>\n",
       "    </tr>\n",
       "    <tr>\n",
       "      <th>3171</th>\n",
       "      <td>0</td>\n",
       "    </tr>\n",
       "  </tbody>\n",
       "</table>\n",
       "<p>8500 rows × 1 columns</p>\n",
       "</div>"
      ],
      "text/plain": [
       "             Violations\n",
       "Accident_ID            \n",
       "10855                 5\n",
       "2931                  5\n",
       "1914                  5\n",
       "12227                 5\n",
       "12232                 5\n",
       "...                 ...\n",
       "4509                  0\n",
       "1363                  0\n",
       "8095                  0\n",
       "4517                  0\n",
       "3171                  0\n",
       "\n",
       "[8500 rows x 1 columns]"
      ]
     },
     "execution_count": 14,
     "metadata": {},
     "output_type": "execute_result"
    }
   ],
   "source": [
    "#HOW MANY Violations IN THE ACCIDENT? \n",
    "train.groupby('Accident_ID').agg({'Violations':'sum'}).sort_values('Violations', ascending = False)"
   ]
  },
  {
   "cell_type": "code",
   "execution_count": 15,
   "id": "03025f1a",
   "metadata": {},
   "outputs": [
    {
     "data": {
      "text/plain": [
       "Violations    17008\n",
       "dtype: int64"
      ]
     },
     "execution_count": 15,
     "metadata": {},
     "output_type": "execute_result"
    }
   ],
   "source": [
    "#HOW MANY Violations?\n",
    "train.groupby('Accident_ID').agg({'Violations':'sum'}).sort_values('Violations', ascending = False).sum()"
   ]
  },
  {
   "cell_type": "code",
   "execution_count": 16,
   "id": "ee815ce1",
   "metadata": {},
   "outputs": [
    {
     "data": {
      "text/plain": [
       "(8500, 13)"
      ]
     },
     "execution_count": 16,
     "metadata": {},
     "output_type": "execute_result"
    }
   ],
   "source": [
    "train.shape"
   ]
  },
  {
   "cell_type": "code",
   "execution_count": 17,
   "id": "a7b6ca23",
   "metadata": {},
   "outputs": [],
   "source": [
    "train.drop(['Accident_ID'],axis=1,inplace=True)\n",
    "test.drop(['Accident_ID'],axis=1,inplace=True)\n",
    "\n",
    "train.drop(['Unnamed: 0'],axis=1,inplace=True)\n",
    "test.drop(['Unnamed: 0'],axis=1,inplace=True)\n"
   ]
  },
  {
   "cell_type": "code",
   "execution_count": 18,
   "id": "4e5b818f",
   "metadata": {},
   "outputs": [
    {
     "data": {
      "text/html": [
       "<div>\n",
       "<style scoped>\n",
       "    .dataframe tbody tr th:only-of-type {\n",
       "        vertical-align: middle;\n",
       "    }\n",
       "\n",
       "    .dataframe tbody tr th {\n",
       "        vertical-align: top;\n",
       "    }\n",
       "\n",
       "    .dataframe thead th {\n",
       "        text-align: right;\n",
       "    }\n",
       "</style>\n",
       "<table border=\"1\" class=\"dataframe\">\n",
       "  <thead>\n",
       "    <tr style=\"text-align: right;\">\n",
       "      <th></th>\n",
       "      <th>Safety_Score</th>\n",
       "      <th>Days_Since_Inspection</th>\n",
       "      <th>Total_Safety_Complaints</th>\n",
       "      <th>Control_Metric</th>\n",
       "      <th>Turbulence_In_gforces</th>\n",
       "      <th>Cabin_Temperature</th>\n",
       "      <th>Accident_Type_Code</th>\n",
       "      <th>Max_Elevation</th>\n",
       "      <th>Violations</th>\n",
       "      <th>Adverse_Weather_Metric</th>\n",
       "      <th>Severity</th>\n",
       "    </tr>\n",
       "  </thead>\n",
       "  <tbody>\n",
       "    <tr>\n",
       "      <th>0</th>\n",
       "      <td>34.063927</td>\n",
       "      <td>15</td>\n",
       "      <td>43</td>\n",
       "      <td>61.394713</td>\n",
       "      <td>0.292673</td>\n",
       "      <td>78.70</td>\n",
       "      <td>7</td>\n",
       "      <td>37917.179706</td>\n",
       "      <td>2</td>\n",
       "      <td>0.003512</td>\n",
       "      <td>Significant_Damage_And_Serious_Injuries</td>\n",
       "    </tr>\n",
       "    <tr>\n",
       "      <th>1</th>\n",
       "      <td>61.278539</td>\n",
       "      <td>10</td>\n",
       "      <td>3</td>\n",
       "      <td>79.307201</td>\n",
       "      <td>0.310343</td>\n",
       "      <td>84.53</td>\n",
       "      <td>2</td>\n",
       "      <td>60869.748698</td>\n",
       "      <td>2</td>\n",
       "      <td>0.777802</td>\n",
       "      <td>Minor_Damage_And_Injuries</td>\n",
       "    </tr>\n",
       "    <tr>\n",
       "      <th>2</th>\n",
       "      <td>58.721461</td>\n",
       "      <td>14</td>\n",
       "      <td>7</td>\n",
       "      <td>75.205105</td>\n",
       "      <td>0.249398</td>\n",
       "      <td>88.93</td>\n",
       "      <td>7</td>\n",
       "      <td>23410.342289</td>\n",
       "      <td>4</td>\n",
       "      <td>0.002406</td>\n",
       "      <td>Significant_Damage_And_Fatalities</td>\n",
       "    </tr>\n",
       "    <tr>\n",
       "      <th>3</th>\n",
       "      <td>50.273973</td>\n",
       "      <td>17</td>\n",
       "      <td>7</td>\n",
       "      <td>47.721057</td>\n",
       "      <td>0.504718</td>\n",
       "      <td>81.35</td>\n",
       "      <td>7</td>\n",
       "      <td>32473.864212</td>\n",
       "      <td>3</td>\n",
       "      <td>0.003312</td>\n",
       "      <td>Significant_Damage_And_Serious_Injuries</td>\n",
       "    </tr>\n",
       "    <tr>\n",
       "      <th>4</th>\n",
       "      <td>46.255708</td>\n",
       "      <td>7</td>\n",
       "      <td>2</td>\n",
       "      <td>67.502279</td>\n",
       "      <td>0.269233</td>\n",
       "      <td>75.35</td>\n",
       "      <td>4</td>\n",
       "      <td>38277.020160</td>\n",
       "      <td>0</td>\n",
       "      <td>0.070480</td>\n",
       "      <td>Highly_Fatal_And_Damaging</td>\n",
       "    </tr>\n",
       "  </tbody>\n",
       "</table>\n",
       "</div>"
      ],
      "text/plain": [
       "   Safety_Score  Days_Since_Inspection  Total_Safety_Complaints  \\\n",
       "0     34.063927                     15                       43   \n",
       "1     61.278539                     10                        3   \n",
       "2     58.721461                     14                        7   \n",
       "3     50.273973                     17                        7   \n",
       "4     46.255708                      7                        2   \n",
       "\n",
       "   Control_Metric  Turbulence_In_gforces  Cabin_Temperature  \\\n",
       "0       61.394713               0.292673              78.70   \n",
       "1       79.307201               0.310343              84.53   \n",
       "2       75.205105               0.249398              88.93   \n",
       "3       47.721057               0.504718              81.35   \n",
       "4       67.502279               0.269233              75.35   \n",
       "\n",
       "   Accident_Type_Code  Max_Elevation  Violations  Adverse_Weather_Metric  \\\n",
       "0                   7   37917.179706           2                0.003512   \n",
       "1                   2   60869.748698           2                0.777802   \n",
       "2                   7   23410.342289           4                0.002406   \n",
       "3                   7   32473.864212           3                0.003312   \n",
       "4                   4   38277.020160           0                0.070480   \n",
       "\n",
       "                                  Severity  \n",
       "0  Significant_Damage_And_Serious_Injuries  \n",
       "1                Minor_Damage_And_Injuries  \n",
       "2        Significant_Damage_And_Fatalities  \n",
       "3  Significant_Damage_And_Serious_Injuries  \n",
       "4                Highly_Fatal_And_Damaging  "
      ]
     },
     "execution_count": 18,
     "metadata": {},
     "output_type": "execute_result"
    }
   ],
   "source": [
    "train.head()"
   ]
  },
  {
   "cell_type": "code",
   "execution_count": 19,
   "id": "3924e675",
   "metadata": {},
   "outputs": [
    {
     "data": {
      "text/html": [
       "<div>\n",
       "<style scoped>\n",
       "    .dataframe tbody tr th:only-of-type {\n",
       "        vertical-align: middle;\n",
       "    }\n",
       "\n",
       "    .dataframe tbody tr th {\n",
       "        vertical-align: top;\n",
       "    }\n",
       "\n",
       "    .dataframe thead th {\n",
       "        text-align: right;\n",
       "    }\n",
       "</style>\n",
       "<table border=\"1\" class=\"dataframe\">\n",
       "  <thead>\n",
       "    <tr style=\"text-align: right;\">\n",
       "      <th></th>\n",
       "      <th>Safety_Score</th>\n",
       "      <th>Days_Since_Inspection</th>\n",
       "      <th>Total_Safety_Complaints</th>\n",
       "      <th>Control_Metric</th>\n",
       "      <th>Turbulence_In_gforces</th>\n",
       "      <th>Cabin_Temperature</th>\n",
       "      <th>Accident_Type_Code</th>\n",
       "      <th>Max_Elevation</th>\n",
       "      <th>Violations</th>\n",
       "      <th>Adverse_Weather_Metric</th>\n",
       "    </tr>\n",
       "  </thead>\n",
       "  <tbody>\n",
       "    <tr>\n",
       "      <th>0</th>\n",
       "      <td>80.593607</td>\n",
       "      <td>8</td>\n",
       "      <td>11</td>\n",
       "      <td>62.534184</td>\n",
       "      <td>0.409514</td>\n",
       "      <td>82.45</td>\n",
       "      <td>2</td>\n",
       "      <td>29304.824298</td>\n",
       "      <td>2</td>\n",
       "      <td>0.395623</td>\n",
       "    </tr>\n",
       "    <tr>\n",
       "      <th>1</th>\n",
       "      <td>41.917808</td>\n",
       "      <td>12</td>\n",
       "      <td>1</td>\n",
       "      <td>56.198724</td>\n",
       "      <td>0.413481</td>\n",
       "      <td>79.64</td>\n",
       "      <td>7</td>\n",
       "      <td>42176.922286</td>\n",
       "      <td>2</td>\n",
       "      <td>0.003973</td>\n",
       "    </tr>\n",
       "    <tr>\n",
       "      <th>2</th>\n",
       "      <td>43.333333</td>\n",
       "      <td>15</td>\n",
       "      <td>4</td>\n",
       "      <td>49.817685</td>\n",
       "      <td>0.408432</td>\n",
       "      <td>82.66</td>\n",
       "      <td>2</td>\n",
       "      <td>36091.552772</td>\n",
       "      <td>3</td>\n",
       "      <td>0.490557</td>\n",
       "    </tr>\n",
       "    <tr>\n",
       "      <th>3</th>\n",
       "      <td>26.073059</td>\n",
       "      <td>21</td>\n",
       "      <td>0</td>\n",
       "      <td>65.496809</td>\n",
       "      <td>0.363354</td>\n",
       "      <td>82.92</td>\n",
       "      <td>4</td>\n",
       "      <td>26977.613452</td>\n",
       "      <td>1</td>\n",
       "      <td>0.049470</td>\n",
       "    </tr>\n",
       "    <tr>\n",
       "      <th>4</th>\n",
       "      <td>32.876712</td>\n",
       "      <td>11</td>\n",
       "      <td>9</td>\n",
       "      <td>62.670921</td>\n",
       "      <td>0.443773</td>\n",
       "      <td>85.40</td>\n",
       "      <td>3</td>\n",
       "      <td>46847.458386</td>\n",
       "      <td>0</td>\n",
       "      <td>0.231088</td>\n",
       "    </tr>\n",
       "  </tbody>\n",
       "</table>\n",
       "</div>"
      ],
      "text/plain": [
       "   Safety_Score  Days_Since_Inspection  Total_Safety_Complaints  \\\n",
       "0     80.593607                      8                       11   \n",
       "1     41.917808                     12                        1   \n",
       "2     43.333333                     15                        4   \n",
       "3     26.073059                     21                        0   \n",
       "4     32.876712                     11                        9   \n",
       "\n",
       "   Control_Metric  Turbulence_In_gforces  Cabin_Temperature  \\\n",
       "0       62.534184               0.409514              82.45   \n",
       "1       56.198724               0.413481              79.64   \n",
       "2       49.817685               0.408432              82.66   \n",
       "3       65.496809               0.363354              82.92   \n",
       "4       62.670921               0.443773              85.40   \n",
       "\n",
       "   Accident_Type_Code  Max_Elevation  Violations  Adverse_Weather_Metric  \n",
       "0                   2   29304.824298           2                0.395623  \n",
       "1                   7   42176.922286           2                0.003973  \n",
       "2                   2   36091.552772           3                0.490557  \n",
       "3                   4   26977.613452           1                0.049470  \n",
       "4                   3   46847.458386           0                0.231088  "
      ]
     },
     "execution_count": 19,
     "metadata": {},
     "output_type": "execute_result"
    }
   ],
   "source": [
    "test.head()"
   ]
  },
  {
   "cell_type": "code",
   "execution_count": 20,
   "id": "681698d2",
   "metadata": {},
   "outputs": [
    {
     "data": {
      "text/plain": [
       "<AxesSubplot:>"
      ]
     },
     "execution_count": 20,
     "metadata": {},
     "output_type": "execute_result"
    },
    {
     "data": {
      "image/png": "[encoded data removed]",
      "text/plain": [
       "<Figure size 720x576 with 1 Axes>"
      ]
     },
     "metadata": {
      "needs_background": "light"
     },
     "output_type": "display_data"
    }
   ],
   "source": [
    "plt.figure(figsize=(10,8))\n",
    "train['Severity'].value_counts().plot(kind='bar',color='red')"
   ]
  },
  {
   "cell_type": "code",
   "execution_count": 21,
   "id": "eec24a85",
   "metadata": {},
   "outputs": [
    {
     "data": {
      "text/html": [
       "<div>\n",
       "<style scoped>\n",
       "    .dataframe tbody tr th:only-of-type {\n",
       "        vertical-align: middle;\n",
       "    }\n",
       "\n",
       "    .dataframe tbody tr th {\n",
       "        vertical-align: top;\n",
       "    }\n",
       "\n",
       "    .dataframe thead th {\n",
       "        text-align: right;\n",
       "    }\n",
       "</style>\n",
       "<table border=\"1\" class=\"dataframe\">\n",
       "  <thead>\n",
       "    <tr style=\"text-align: right;\">\n",
       "      <th></th>\n",
       "      <th>Safety_Score</th>\n",
       "      <th>Days_Since_Inspection</th>\n",
       "      <th>Total_Safety_Complaints</th>\n",
       "      <th>Control_Metric</th>\n",
       "      <th>Turbulence_In_gforces</th>\n",
       "      <th>Cabin_Temperature</th>\n",
       "      <th>Accident_Type_Code</th>\n",
       "      <th>Max_Elevation</th>\n",
       "      <th>Violations</th>\n",
       "      <th>Adverse_Weather_Metric</th>\n",
       "      <th>Severity</th>\n",
       "    </tr>\n",
       "  </thead>\n",
       "  <tbody>\n",
       "    <tr>\n",
       "      <th>0</th>\n",
       "      <td>34.063927</td>\n",
       "      <td>15</td>\n",
       "      <td>43</td>\n",
       "      <td>61.394713</td>\n",
       "      <td>0.292673</td>\n",
       "      <td>78.70</td>\n",
       "      <td>7</td>\n",
       "      <td>37917.179706</td>\n",
       "      <td>2</td>\n",
       "      <td>0.003512</td>\n",
       "      <td>1</td>\n",
       "    </tr>\n",
       "    <tr>\n",
       "      <th>1</th>\n",
       "      <td>61.278539</td>\n",
       "      <td>10</td>\n",
       "      <td>3</td>\n",
       "      <td>79.307201</td>\n",
       "      <td>0.310343</td>\n",
       "      <td>84.53</td>\n",
       "      <td>2</td>\n",
       "      <td>60869.748698</td>\n",
       "      <td>2</td>\n",
       "      <td>0.777802</td>\n",
       "      <td>2</td>\n",
       "    </tr>\n",
       "    <tr>\n",
       "      <th>2</th>\n",
       "      <td>58.721461</td>\n",
       "      <td>14</td>\n",
       "      <td>7</td>\n",
       "      <td>75.205105</td>\n",
       "      <td>0.249398</td>\n",
       "      <td>88.93</td>\n",
       "      <td>7</td>\n",
       "      <td>23410.342289</td>\n",
       "      <td>4</td>\n",
       "      <td>0.002406</td>\n",
       "      <td>3</td>\n",
       "    </tr>\n",
       "    <tr>\n",
       "      <th>3</th>\n",
       "      <td>50.273973</td>\n",
       "      <td>17</td>\n",
       "      <td>7</td>\n",
       "      <td>47.721057</td>\n",
       "      <td>0.504718</td>\n",
       "      <td>81.35</td>\n",
       "      <td>7</td>\n",
       "      <td>32473.864212</td>\n",
       "      <td>3</td>\n",
       "      <td>0.003312</td>\n",
       "      <td>1</td>\n",
       "    </tr>\n",
       "    <tr>\n",
       "      <th>4</th>\n",
       "      <td>46.255708</td>\n",
       "      <td>7</td>\n",
       "      <td>2</td>\n",
       "      <td>67.502279</td>\n",
       "      <td>0.269233</td>\n",
       "      <td>75.35</td>\n",
       "      <td>4</td>\n",
       "      <td>38277.020160</td>\n",
       "      <td>0</td>\n",
       "      <td>0.070480</td>\n",
       "      <td>0</td>\n",
       "    </tr>\n",
       "  </tbody>\n",
       "</table>\n",
       "</div>"
      ],
      "text/plain": [
       "   Safety_Score  Days_Since_Inspection  Total_Safety_Complaints  \\\n",
       "0     34.063927                     15                       43   \n",
       "1     61.278539                     10                        3   \n",
       "2     58.721461                     14                        7   \n",
       "3     50.273973                     17                        7   \n",
       "4     46.255708                      7                        2   \n",
       "\n",
       "   Control_Metric  Turbulence_In_gforces  Cabin_Temperature  \\\n",
       "0       61.394713               0.292673              78.70   \n",
       "1       79.307201               0.310343              84.53   \n",
       "2       75.205105               0.249398              88.93   \n",
       "3       47.721057               0.504718              81.35   \n",
       "4       67.502279               0.269233              75.35   \n",
       "\n",
       "   Accident_Type_Code  Max_Elevation  Violations  Adverse_Weather_Metric  \\\n",
       "0                   7   37917.179706           2                0.003512   \n",
       "1                   2   60869.748698           2                0.777802   \n",
       "2                   7   23410.342289           4                0.002406   \n",
       "3                   7   32473.864212           3                0.003312   \n",
       "4                   4   38277.020160           0                0.070480   \n",
       "\n",
       "   Severity  \n",
       "0         1  \n",
       "1         2  \n",
       "2         3  \n",
       "3         1  \n",
       "4         0  "
      ]
     },
     "execution_count": 21,
     "metadata": {},
     "output_type": "execute_result"
    }
   ],
   "source": [
    "train.Severity.replace('Highly_Fatal_And_Damaging', 0, inplace=True)\n",
    "train.Severity.replace('Significant_Damage_And_Serious_Injuries', 1, inplace=True)\n",
    "train.Severity.replace('Minor_Damage_And_Injuries', 2, inplace=True)\n",
    "train.Severity.replace('Significant_Damage_And_Fatalities', 3, inplace=True)\n",
    "\n",
    "train.head()\n"
   ]
  },
  {
   "cell_type": "markdown",
   "id": "be051dd5",
   "metadata": {},
   "source": [
    "## Training"
   ]
  },
  {
   "cell_type": "code",
   "execution_count": 22,
   "id": "00a575a1",
   "metadata": {},
   "outputs": [],
   "source": [
    "from sklearn.model_selection import train_test_split\n",
    "\n",
    "x = train.drop('Severity',axis=1)\n",
    "y = train['Severity']\n",
    "\n",
    "x_train, x_test, y_train, y_test = train_test_split(x, y, test_size = 0.25)"
   ]
  },
  {
   "cell_type": "code",
   "execution_count": 23,
   "id": "0515d8a0",
   "metadata": {},
   "outputs": [
    {
     "data": {
      "text/plain": [
       "(8500, 10)"
      ]
     },
     "execution_count": 23,
     "metadata": {},
     "output_type": "execute_result"
    }
   ],
   "source": [
    "x.shape"
   ]
  },
  {
   "cell_type": "code",
   "execution_count": 24,
   "id": "d403a71d",
   "metadata": {},
   "outputs": [
    {
     "data": {
      "text/plain": [
       "(8500,)"
      ]
     },
     "execution_count": 24,
     "metadata": {},
     "output_type": "execute_result"
    }
   ],
   "source": [
    "y.shape"
   ]
  },
  {
   "cell_type": "code",
   "execution_count": 25,
   "id": "7238e5de",
   "metadata": {},
   "outputs": [
    {
     "data": {
      "text/plain": [
       "DecisionTreeClassifier(random_state=60)"
      ]
     },
     "execution_count": 25,
     "metadata": {},
     "output_type": "execute_result"
    }
   ],
   "source": [
    "#DecisionTreeClassifier\n",
    "\n",
    "from sklearn.tree import DecisionTreeClassifier\n",
    "\n",
    "tree = DecisionTreeClassifier(random_state=60)\n",
    "tree.fit(x_train, y_train)"
   ]
  },
  {
   "cell_type": "code",
   "execution_count": 26,
   "id": "5dd9b84e",
   "metadata": {},
   "outputs": [
    {
     "data": {
      "text/plain": [
       "array([0, 0, 2, ..., 3, 1, 1], dtype=int64)"
      ]
     },
     "execution_count": 26,
     "metadata": {},
     "output_type": "execute_result"
    }
   ],
   "source": [
    "y_pred = tree.predict(x_test)\n",
    "y_pred"
   ]
  },
  {
   "cell_type": "code",
   "execution_count": 27,
   "id": "e1eaef75",
   "metadata": {},
   "outputs": [
    {
     "name": "stdout",
     "output_type": "stream",
     "text": [
      "[[595  22  15   9]\n",
      " [ 24 553  19  10]\n",
      " [ 14   9 491   8]\n",
      " [ 14   4  15 323]]\n"
     ]
    }
   ],
   "source": [
    "from sklearn.metrics import confusion_matrix, accuracy_score\n",
    "\n",
    "ConfusionMatrix = confusion_matrix(y_test, y_pred)\n",
    "print(ConfusionMatrix)"
   ]
  },
  {
   "cell_type": "code",
   "execution_count": 28,
   "id": "1b9c119d",
   "metadata": {},
   "outputs": [
    {
     "name": "stdout",
     "output_type": "stream",
     "text": [
      "Accuracy of Decision Tree data :  0.9232941176470588\n"
     ]
    }
   ],
   "source": [
    "print('Accuracy of Decision Tree data : ', accuracy_score(y_test, y_pred))"
   ]
  },
  {
   "cell_type": "code",
   "execution_count": 29,
   "id": "43ce4098",
   "metadata": {},
   "outputs": [
    {
     "data": {
      "text/plain": [
       "RandomForestClassifier(criterion='entropy', random_state=22)"
      ]
     },
     "execution_count": 29,
     "metadata": {},
     "output_type": "execute_result"
    }
   ],
   "source": [
    "#RandomForestClassifier\n",
    "\n",
    "\n",
    "from sklearn.ensemble import RandomForestClassifier\n",
    "\n",
    "RFC = RandomForestClassifier(n_estimators=100, random_state =22,criterion=\"entropy\")\n",
    "RFC.fit(x_train, y_train)"
   ]
  },
  {
   "cell_type": "code",
   "execution_count": 30,
   "id": "14ec6722",
   "metadata": {},
   "outputs": [
    {
     "data": {
      "text/plain": [
       "array([0, 0, 2, ..., 3, 1, 1], dtype=int64)"
      ]
     },
     "execution_count": 30,
     "metadata": {},
     "output_type": "execute_result"
    }
   ],
   "source": [
    "y_pred = RFC.predict(x_test)\n",
    "y_pred"
   ]
  },
  {
   "cell_type": "code",
   "execution_count": 31,
   "id": "22556e2e",
   "metadata": {},
   "outputs": [
    {
     "name": "stdout",
     "output_type": "stream",
     "text": [
      "[[603  11  18   9]\n",
      " [ 14 570  20   2]\n",
      " [ 14   5 496   7]\n",
      " [  4   5  14 333]]\n"
     ]
    }
   ],
   "source": [
    "ConfusionMatrix = confusion_matrix(y_test, y_pred)\n",
    "print(ConfusionMatrix)"
   ]
  },
  {
   "cell_type": "code",
   "execution_count": 32,
   "id": "9b167a44",
   "metadata": {},
   "outputs": [
    {
     "name": "stdout",
     "output_type": "stream",
     "text": [
      "Accuracy of Random Forest data :  0.9421176470588235\n"
     ]
    }
   ],
   "source": [
    "print('Accuracy of Random Forest data : ', accuracy_score(y_test, y_pred))"
   ]
  },
  {
   "cell_type": "code",
   "execution_count": 33,
   "id": "9cc1f454",
   "metadata": {},
   "outputs": [
    {
     "data": {
      "text/plain": [
       "GradientBoostingClassifier(learning_rate=0.7, n_estimators=270)"
      ]
     },
     "execution_count": 33,
     "metadata": {},
     "output_type": "execute_result"
    }
   ],
   "source": [
    "#GradientBoostingClassifier\n",
    "\n",
    "from sklearn.ensemble import GradientBoostingClassifier\n",
    "GBC=GradientBoostingClassifier(learning_rate=0.7,n_estimators=270)\n",
    "GBC.fit(x_train, y_train)"
   ]
  },
  {
   "cell_type": "code",
   "execution_count": 34,
   "id": "29581c59",
   "metadata": {},
   "outputs": [
    {
     "data": {
      "text/plain": [
       "array([0, 0, 2, ..., 3, 1, 1], dtype=int64)"
      ]
     },
     "execution_count": 34,
     "metadata": {},
     "output_type": "execute_result"
    }
   ],
   "source": [
    "y_pred = GBC.predict(x_test)\n",
    "y_pred"
   ]
  },
  {
   "cell_type": "code",
   "execution_count": 35,
   "id": "66c89126",
   "metadata": {},
   "outputs": [
    {
     "name": "stdout",
     "output_type": "stream",
     "text": [
      "[[604  11  17   9]\n",
      " [  9 580  12   5]\n",
      " [  8   8 503   3]\n",
      " [  4   4   5 343]]\n"
     ]
    }
   ],
   "source": [
    "ConfusionMatrix = confusion_matrix(y_test, y_pred)\n",
    "print(ConfusionMatrix)"
   ]
  },
  {
   "cell_type": "code",
   "execution_count": 36,
   "id": "c2415ae7",
   "metadata": {},
   "outputs": [
    {
     "name": "stdout",
     "output_type": "stream",
     "text": [
      "Accuracy of Gradient Boosting data :  0.9552941176470588\n"
     ]
    }
   ],
   "source": [
    "print('Accuracy of Gradient Boosting data : ', accuracy_score(y_test, y_pred))"
   ]
  },
  {
   "cell_type": "code",
   "execution_count": 37,
   "id": "44a1c5cb",
   "metadata": {},
   "outputs": [
    {
     "name": "stderr",
     "output_type": "stream",
     "text": [
      "C:\\Users\\pesho\\anaconda3\\lib\\site-packages\\sklearn\\linear_model\\_logistic.py:763: ConvergenceWarning: lbfgs failed to converge (status=1):\n",
      "STOP: TOTAL NO. of ITERATIONS REACHED LIMIT.\n",
      "\n",
      "Increase the number of iterations (max_iter) or scale the data as shown in:\n",
      "    https://scikit-learn.org/stable/modules/preprocessing.html\n",
      "Please also refer to the documentation for alternative solver options:\n",
      "    https://scikit-learn.org/stable/modules/linear_model.html#logistic-regression\n",
      "  n_iter_i = _check_optimize_result(\n"
     ]
    },
    {
     "data": {
      "text/plain": [
       "LogisticRegression()"
      ]
     },
     "execution_count": 37,
     "metadata": {},
     "output_type": "execute_result"
    }
   ],
   "source": [
    "#LogisticRegression\n",
    "\n",
    "\n",
    "from sklearn.linear_model import LogisticRegression\n",
    "\n",
    "LR= LogisticRegression()\n",
    "LR.fit(x_train, y_train)"
   ]
  },
  {
   "cell_type": "code",
   "execution_count": 38,
   "id": "ade50915",
   "metadata": {},
   "outputs": [
    {
     "data": {
      "text/plain": [
       "array([0, 0, 0, ..., 3, 0, 2], dtype=int64)"
      ]
     },
     "execution_count": 38,
     "metadata": {},
     "output_type": "execute_result"
    }
   ],
   "source": [
    "y_pred = LR.predict(x_test)\n",
    "y_pred"
   ]
  },
  {
   "cell_type": "code",
   "execution_count": 39,
   "id": "7bb453e7",
   "metadata": {},
   "outputs": [
    {
     "name": "stdout",
     "output_type": "stream",
     "text": [
      "[[418  94  99  30]\n",
      " [242 195 137  32]\n",
      " [109 154 228  31]\n",
      " [125  58 149  24]]\n"
     ]
    }
   ],
   "source": [
    "ConfusionMatrix = confusion_matrix(y_test, y_pred)\n",
    "print(ConfusionMatrix)"
   ]
  },
  {
   "cell_type": "code",
   "execution_count": 40,
   "id": "390fb1e0",
   "metadata": {},
   "outputs": [
    {
     "name": "stdout",
     "output_type": "stream",
     "text": [
      "Accuracy of Logistic Regression data :  0.40705882352941175\n"
     ]
    }
   ],
   "source": [
    "print('Accuracy of Logistic Regression data : ', accuracy_score(y_test, y_pred))"
   ]
  },
  {
   "cell_type": "code",
   "execution_count": 405,
   "id": "5abeaf25",
   "metadata": {},
   "outputs": [
    {
     "data": {
      "text/plain": [
       "KNeighborsClassifier(n_neighbors=3000)"
      ]
     },
     "execution_count": 405,
     "metadata": {},
     "output_type": "execute_result"
    }
   ],
   "source": [
    "#KNN\n",
    "\n",
    "from sklearn.neighbors import KNeighborsClassifier\n",
    "KNN= KNeighborsClassifier(n_neighbors=3000)\n",
    "KNN.fit(x_train, y_train)"
   ]
  },
  {
   "cell_type": "code",
   "execution_count": 406,
   "id": "6fda84e6",
   "metadata": {},
   "outputs": [
    {
     "data": {
      "text/plain": [
       "array([0, 0, 0, ..., 0, 0, 0], dtype=int64)"
      ]
     },
     "execution_count": 406,
     "metadata": {},
     "output_type": "execute_result"
    }
   ],
   "source": [
    "y_pred = KNN.predict(x_test)\n",
    "y_pred"
   ]
  },
  {
   "cell_type": "code",
   "execution_count": 407,
   "id": "a3a03bc2",
   "metadata": {},
   "outputs": [
    {
     "name": "stdout",
     "output_type": "stream",
     "text": [
      "[[656   0   0   0]\n",
      " [588   0   0   0]\n",
      " [531   0   0   0]\n",
      " [350   0   0   0]]\n"
     ]
    }
   ],
   "source": [
    "ConfusionMatrix = confusion_matrix(y_test, y_pred)\n",
    "print(ConfusionMatrix)"
   ]
  },
  {
   "cell_type": "code",
   "execution_count": 408,
   "id": "f26553cc",
   "metadata": {},
   "outputs": [
    {
     "name": "stdout",
     "output_type": "stream",
     "text": [
      "Accuracy of K-Nearest Neighbors  data :  0.30870588235294116\n"
     ]
    }
   ],
   "source": [
    "print('Accuracy of K-Nearest Neighbors  data : ', accuracy_score(y_test, y_pred))"
   ]
  },
  {
   "cell_type": "code",
   "execution_count": 409,
   "id": "252fd239",
   "metadata": {
    "scrolled": true
   },
   "outputs": [
    {
     "data": {
      "text/plain": [
       "GaussianNB()"
      ]
     },
     "execution_count": 409,
     "metadata": {},
     "output_type": "execute_result"
    }
   ],
   "source": [
    "#  Gaussian Naive Bayes classifier:\n",
    "from sklearn.naive_bayes import GaussianNB\n",
    "GNB = GaussianNB()\n",
    "GNB.fit(x_train, y_train)"
   ]
  },
  {
   "cell_type": "code",
   "execution_count": 410,
   "id": "f0c0bb9c",
   "metadata": {},
   "outputs": [
    {
     "data": {
      "text/plain": [
       "array([0, 1, 1, ..., 2, 3, 3], dtype=int64)"
      ]
     },
     "execution_count": 410,
     "metadata": {},
     "output_type": "execute_result"
    }
   ],
   "source": [
    "y_pred =GNB.predict(x_test)\n",
    "y_pred"
   ]
  },
  {
   "cell_type": "code",
   "execution_count": 411,
   "id": "ef23202a",
   "metadata": {},
   "outputs": [
    {
     "name": "stdout",
     "output_type": "stream",
     "text": [
      "[[343 206  86  21]\n",
      " [157 304  81  46]\n",
      " [ 88 151 261  31]\n",
      " [ 94 133  56  67]]\n"
     ]
    }
   ],
   "source": [
    "ConfusionMatrix = confusion_matrix(y_test, y_pred)\n",
    "print(ConfusionMatrix)"
   ]
  },
  {
   "cell_type": "code",
   "execution_count": 412,
   "id": "b11f7091",
   "metadata": {},
   "outputs": [
    {
     "name": "stdout",
     "output_type": "stream",
     "text": [
      "Accuracy of Gaussian Naive Bayes  data :  0.4588235294117647\n"
     ]
    }
   ],
   "source": [
    "print('Accuracy of Gaussian Naive Bayes  data : ', accuracy_score(y_test, y_pred))"
   ]
  },
  {
   "cell_type": "code",
   "execution_count": 413,
   "id": "c805de8f",
   "metadata": {},
   "outputs": [
    {
     "data": {
      "text/plain": [
       "SVC()"
      ]
     },
     "execution_count": 413,
     "metadata": {},
     "output_type": "execute_result"
    }
   ],
   "source": [
    "#Support Vector Machine\n",
    "\n",
    "from sklearn import svm\n",
    "sv = svm.SVC()\n",
    "sv.fit(x_train, y_train)"
   ]
  },
  {
   "cell_type": "code",
   "execution_count": 414,
   "id": "7f0ca287",
   "metadata": {},
   "outputs": [
    {
     "data": {
      "text/plain": [
       "array([0, 0, 0, ..., 0, 0, 0], dtype=int64)"
      ]
     },
     "execution_count": 414,
     "metadata": {},
     "output_type": "execute_result"
    }
   ],
   "source": [
    "y_pred =sv.predict(x_test)\n",
    "y_pred"
   ]
  },
  {
   "cell_type": "code",
   "execution_count": 418,
   "id": "ce3e4d58",
   "metadata": {},
   "outputs": [
    {
     "name": "stdout",
     "output_type": "stream",
     "text": [
      "[[656   0   0   0]\n",
      " [588   0   0   0]\n",
      " [531   0   0   0]\n",
      " [350   0   0   0]]\n"
     ]
    }
   ],
   "source": [
    "ConfusionMatrix = confusion_matrix(y_test, y_pred)\n",
    "print(ConfusionMatrix)"
   ]
  },
  {
   "cell_type": "code",
   "execution_count": 420,
   "id": "6dbab6e1",
   "metadata": {},
   "outputs": [
    {
     "name": "stdout",
     "output_type": "stream",
     "text": [
      "Accuracy of Support Vector Machine  data :  0.30870588235294116\n"
     ]
    }
   ],
   "source": [
    "print('Accuracy of Support Vector Machine  data : ', accuracy_score(y_test, y_pred))"
   ]
  },
  {
   "cell_type": "code",
   "execution_count": 421,
   "id": "a2768f02",
   "metadata": {},
   "outputs": [
    {
     "data": {
      "text/plain": [
       "LinearDiscriminantAnalysis()"
      ]
     },
     "execution_count": 421,
     "metadata": {},
     "output_type": "execute_result"
    }
   ],
   "source": [
    "from sklearn.discriminant_analysis import LinearDiscriminantAnalysis\n",
    "LD = LinearDiscriminantAnalysis()\n",
    "LD.fit(x_train, y_train)"
   ]
  },
  {
   "cell_type": "code",
   "execution_count": 422,
   "id": "53541e71",
   "metadata": {},
   "outputs": [
    {
     "data": {
      "text/plain": [
       "array([0, 3, 0, ..., 2, 3, 3], dtype=int64)"
      ]
     },
     "execution_count": 422,
     "metadata": {},
     "output_type": "execute_result"
    }
   ],
   "source": [
    "y_pred =LD.predict(x_test)\n",
    "y_pred"
   ]
  },
  {
   "cell_type": "code",
   "execution_count": 423,
   "id": "0e268386",
   "metadata": {},
   "outputs": [
    {
     "name": "stdout",
     "output_type": "stream",
     "text": [
      "Accuracy of Support Vector Machine  data :  0.6517647058823529\n"
     ]
    }
   ],
   "source": [
    "print('Accuracy of Support Vector Machine  data : ', accuracy_score(y_test, y_pred))"
   ]
  },
  {
   "cell_type": "markdown",
   "id": "bc0b26bf",
   "metadata": {},
   "source": [
    "## Testing"
   ]
  },
  {
   "cell_type": "code",
   "execution_count": 427,
   "id": "ac2d47ab",
   "metadata": {},
   "outputs": [
    {
     "data": {
      "text/html": [
       "<div>\n",
       "<style scoped>\n",
       "    .dataframe tbody tr th:only-of-type {\n",
       "        vertical-align: middle;\n",
       "    }\n",
       "\n",
       "    .dataframe tbody tr th {\n",
       "        vertical-align: top;\n",
       "    }\n",
       "\n",
       "    .dataframe thead th {\n",
       "        text-align: right;\n",
       "    }\n",
       "</style>\n",
       "<table border=\"1\" class=\"dataframe\">\n",
       "  <thead>\n",
       "    <tr style=\"text-align: right;\">\n",
       "      <th></th>\n",
       "      <th>Safety_Score</th>\n",
       "      <th>Days_Since_Inspection</th>\n",
       "      <th>Total_Safety_Complaints</th>\n",
       "      <th>Control_Metric</th>\n",
       "      <th>Turbulence_In_gforces</th>\n",
       "      <th>Cabin_Temperature</th>\n",
       "      <th>Accident_Type_Code</th>\n",
       "      <th>Max_Elevation</th>\n",
       "      <th>Violations</th>\n",
       "      <th>Adverse_Weather_Metric</th>\n",
       "    </tr>\n",
       "  </thead>\n",
       "  <tbody>\n",
       "    <tr>\n",
       "      <th>0</th>\n",
       "      <td>80.593607</td>\n",
       "      <td>8</td>\n",
       "      <td>11</td>\n",
       "      <td>62.534184</td>\n",
       "      <td>0.409514</td>\n",
       "      <td>82.45</td>\n",
       "      <td>2</td>\n",
       "      <td>29304.824298</td>\n",
       "      <td>2</td>\n",
       "      <td>0.395623</td>\n",
       "    </tr>\n",
       "    <tr>\n",
       "      <th>1</th>\n",
       "      <td>41.917808</td>\n",
       "      <td>12</td>\n",
       "      <td>1</td>\n",
       "      <td>56.198724</td>\n",
       "      <td>0.413481</td>\n",
       "      <td>79.64</td>\n",
       "      <td>7</td>\n",
       "      <td>42176.922286</td>\n",
       "      <td>2</td>\n",
       "      <td>0.003973</td>\n",
       "    </tr>\n",
       "    <tr>\n",
       "      <th>2</th>\n",
       "      <td>43.333333</td>\n",
       "      <td>15</td>\n",
       "      <td>4</td>\n",
       "      <td>49.817685</td>\n",
       "      <td>0.408432</td>\n",
       "      <td>82.66</td>\n",
       "      <td>2</td>\n",
       "      <td>36091.552772</td>\n",
       "      <td>3</td>\n",
       "      <td>0.490557</td>\n",
       "    </tr>\n",
       "    <tr>\n",
       "      <th>3</th>\n",
       "      <td>26.073059</td>\n",
       "      <td>21</td>\n",
       "      <td>0</td>\n",
       "      <td>65.496809</td>\n",
       "      <td>0.363354</td>\n",
       "      <td>82.92</td>\n",
       "      <td>4</td>\n",
       "      <td>26977.613452</td>\n",
       "      <td>1</td>\n",
       "      <td>0.049470</td>\n",
       "    </tr>\n",
       "    <tr>\n",
       "      <th>4</th>\n",
       "      <td>32.876712</td>\n",
       "      <td>11</td>\n",
       "      <td>9</td>\n",
       "      <td>62.670921</td>\n",
       "      <td>0.443773</td>\n",
       "      <td>85.40</td>\n",
       "      <td>3</td>\n",
       "      <td>46847.458386</td>\n",
       "      <td>0</td>\n",
       "      <td>0.231088</td>\n",
       "    </tr>\n",
       "  </tbody>\n",
       "</table>\n",
       "</div>"
      ],
      "text/plain": [
       "   Safety_Score  Days_Since_Inspection  Total_Safety_Complaints  \\\n",
       "0     80.593607                      8                       11   \n",
       "1     41.917808                     12                        1   \n",
       "2     43.333333                     15                        4   \n",
       "3     26.073059                     21                        0   \n",
       "4     32.876712                     11                        9   \n",
       "\n",
       "   Control_Metric  Turbulence_In_gforces  Cabin_Temperature  \\\n",
       "0       62.534184               0.409514              82.45   \n",
       "1       56.198724               0.413481              79.64   \n",
       "2       49.817685               0.408432              82.66   \n",
       "3       65.496809               0.363354              82.92   \n",
       "4       62.670921               0.443773              85.40   \n",
       "\n",
       "   Accident_Type_Code  Max_Elevation  Violations  Adverse_Weather_Metric  \n",
       "0                   2   29304.824298           2                0.395623  \n",
       "1                   7   42176.922286           2                0.003973  \n",
       "2                   2   36091.552772           3                0.490557  \n",
       "3                   4   26977.613452           1                0.049470  \n",
       "4                   3   46847.458386           0                0.231088  "
      ]
     },
     "execution_count": 427,
     "metadata": {},
     "output_type": "execute_result"
    }
   ],
   "source": [
    "test.head()"
   ]
  },
  {
   "cell_type": "code",
   "execution_count": 428,
   "id": "9784a006",
   "metadata": {},
   "outputs": [
    {
     "data": {
      "text/plain": [
       "GradientBoostingClassifier(learning_rate=0.7, n_estimators=270)"
      ]
     },
     "execution_count": 428,
     "metadata": {},
     "output_type": "execute_result"
    }
   ],
   "source": [
    "##We will use  GradientBoostingClassifier\n",
    "\n",
    "from sklearn.ensemble import GradientBoostingClassifier\n",
    "\n",
    "Ty = train[\"Severity\"]\n",
    "features = [\"Safety_Score\", \"Days_Since_Inspection\", \"Total_Safety_Complaints\", \"Control_Metric\", \"Turbulence_In_gforces\", \"Cabin_Temperature\", \"Accident_Type_Code\",\"Max_Elevation\",\"Violations\",\"Adverse_Weather_Metric\"]\n",
    "\n",
    "X = pd.get_dummies(train[features])\n",
    "\n",
    "X_test = pd.get_dummies(test[features]) #هنا انا بعتت لل var  الداتا بتاعت ال test\n",
    "\n",
    "model =GradientBoostingClassifier(learning_rate=0.7,n_estimators=270)\n",
    "model.fit(X, Ty)"
   ]
  },
  {
   "cell_type": "code",
   "execution_count": 429,
   "id": "7706320e",
   "metadata": {},
   "outputs": [
    {
     "data": {
      "text/plain": [
       "array([3, 2, 0, ..., 3, 0, 3], dtype=int64)"
      ]
     },
     "execution_count": 429,
     "metadata": {},
     "output_type": "execute_result"
    }
   ],
   "source": [
    "predictions = model.predict(X_test)\n",
    "predictions"
   ]
  },
  {
   "cell_type": "code",
   "execution_count": 431,
   "id": "d38ca578",
   "metadata": {},
   "outputs": [],
   "source": [
    "df=pd.DataFrame({\"Severity\":predictions})\n",
    "df.Severity.replace(0, 'Highly_Fatal_And_Damaging',inplace=True)\n",
    "df.Severity.replace(1,'Significant_Damage_And_Serious_Injuries', inplace=True)\n",
    "df.Severity.replace(2,'Minor_Damage_And_Injuries', inplace=True)\n",
    "df.Severity.replace(3,'Significant_Damage_And_Fatalities', inplace=True)\n"
   ]
  },
  {
   "cell_type": "code",
   "execution_count": 432,
   "id": "83b803d5",
   "metadata": {},
   "outputs": [],
   "source": [
    "df=pd.DataFrame({\"Severity\":predictions})\n",
    "df.to_csv(\"Output.csv\")"
   ]
  },
  {
   "cell_type": "code",
   "execution_count": null,
   "id": "d7e41f22",
   "metadata": {},
   "outputs": [],
   "source": []
  }
 ],
 "metadata": {
  "kernelspec": {
   "display_name": "Python 3 (ipykernel)",
   "language": "python",
   "name": "python3"
  },
  "language_info": {
   "codemirror_mode": {
    "name": "ipython",
    "version": 3
   },
   "file_extension": ".py",
   "mimetype": "text/x-python",
   "name": "python",
   "nbconvert_exporter": "python",
   "pygments_lexer": "ipython3",
   "version": "3.9.7"
  }
 },
 "nbformat": 4,
 "nbformat_minor": 5
}
